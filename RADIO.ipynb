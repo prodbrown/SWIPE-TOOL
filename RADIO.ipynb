{
  "nbformat": 4,
  "nbformat_minor": 0,
  "metadata": {
    "colab": {
      "provenance": [],
      "authorship_tag": "ABX9TyNEC/erG7jtJi8X8H265FV3",
      "include_colab_link": true
    },
    "kernelspec": {
      "name": "python3",
      "display_name": "Python 3"
    },
    "language_info": {
      "name": "python"
    }
  },
  "cells": [
    {
      "cell_type": "markdown",
      "metadata": {
        "id": "view-in-github",
        "colab_type": "text"
      },
      "source": [
        "<a href=\"https://colab.research.google.com/github/prodbrown/SWIPE-TOOL/blob/main/RADIO.ipynb\" target=\"_parent\"><img src=\"https://colab.research.google.com/assets/colab-badge.svg\" alt=\"Open In Colab\"/></a>"
      ]
    },
    {
      "cell_type": "code",
      "execution_count": 6,
      "metadata": {
        "colab": {
          "base_uri": "https://localhost:8080/",
          "height": 645
        },
        "id": "088tXHnJCdD_",
        "outputId": "659d1d99-647d-40c6-a31d-eb7e4a16eba0"
      },
      "outputs": [
        {
          "output_type": "stream",
          "name": "stdout",
          "text": [
            "It looks like you are running Gradio on a hosted a Jupyter notebook. For the Gradio app to work, sharing must be enabled. Automatically setting `share=True` (you can turn this off by setting `share=False` in `launch()` explicitly).\n",
            "\n",
            "Colab notebook detected. To show errors in colab notebook, set debug=True in launch()\n",
            "* Running on public URL: https://d9735196f785372d6a.gradio.live\n",
            "\n",
            "This share link expires in 1 week. For free permanent hosting and GPU upgrades, run `gradio deploy` from the terminal in the working directory to deploy to Hugging Face Spaces (https://huggingface.co/spaces)\n"
          ]
        },
        {
          "output_type": "display_data",
          "data": {
            "text/plain": [
              "<IPython.core.display.HTML object>"
            ],
            "text/html": [
              "<div><iframe src=\"https://d9735196f785372d6a.gradio.live\" width=\"100%\" height=\"500\" allow=\"autoplay; camera; microphone; clipboard-read; clipboard-write;\" frameborder=\"0\" allowfullscreen></iframe></div>"
            ]
          },
          "metadata": {}
        },
        {
          "output_type": "execute_result",
          "data": {
            "text/plain": []
          },
          "metadata": {},
          "execution_count": 6
        }
      ],
      "source": [
        "\n",
        "# ✅ Install gradio if needed\n",
        "try:\n",
        "    import gradio as gr\n",
        "except ImportError:\n",
        "    !pip install gradio\n",
        "    import gradio as gr\n",
        "\n",
        "import requests\n",
        "\n",
        "# ✅ Base API\n",
        "BASE_URL = \"https://de1.api.radio-browser.info/json\"\n",
        "\n",
        "# ------------------------------------------\n",
        "# ✅ 1. Get available countries\n",
        "# ------------------------------------------\n",
        "def get_countries():\n",
        "    res = requests.get(f\"{BASE_URL}/countries\")\n",
        "    res.raise_for_status()\n",
        "    countries = sorted([c['name'] for c in res.json()])\n",
        "    return countries\n",
        "\n",
        "# ------------------------------------------\n",
        "# ✅ 2. Get stations for selected country\n",
        "# ------------------------------------------\n",
        "def get_stations_in_country(country):\n",
        "    res = requests.get(f\"{BASE_URL}/stations/bycountry/{country}\")\n",
        "    res.raise_for_status()\n",
        "    all_stations = res.json()\n",
        "\n",
        "    # Filter stations with working mp3 links\n",
        "    filtered = []\n",
        "    for s in all_stations:\n",
        "        name = s.get('name')\n",
        "        url = s.get('url_resolved')\n",
        "        if name and url and url.endswith(\".mp3\"):\n",
        "            filtered.append((name, url))\n",
        "    return filtered\n",
        "\n",
        "# ------------------------------------------\n",
        "# ✅ 3. Gradio function: Load stations\n",
        "# ------------------------------------------\n",
        "def load_stations(country):\n",
        "    stations = get_stations_in_country(country)\n",
        "    if not stations:\n",
        "        return gr.update(choices=[]), \"❌ No stations found in this country.\", {}\n",
        "\n",
        "    choices = [name for name, url in stations]\n",
        "    urls = {name: url for name, url in stations}\n",
        "\n",
        "    # ✅ FIX: Set default selection to first station\n",
        "    return gr.update(choices=choices, value=choices[0]), f\"✅ Found {len(choices)} stations in {country}.\", urls\n",
        "\n",
        "# ------------------------------------------\n",
        "# ✅ 4. Gradio function: Play station\n",
        "# ------------------------------------------\n",
        "def play_station(station_name, station_dict):\n",
        "    url = station_dict.get(station_name)\n",
        "    if not url:\n",
        "        return \"❌ No stream found.\"\n",
        "\n",
        "    return f\"\"\"\n",
        "    <audio controls autoplay>\n",
        "      <source src=\"{url}\" type=\"audio/mpeg\">\n",
        "      Your browser does not support the audio element.\n",
        "    </audio>\n",
        "    \"\"\"\n",
        "\n",
        "# ------------------------------------------\n",
        "# ✅ 5. Build Gradio Interface\n",
        "# ------------------------------------------\n",
        "with gr.Blocks() as app:\n",
        "    gr.Markdown(\"# 🌍 **Radio Browser Player**\\nListen to global radio stations by country\")\n",
        "\n",
        "    country_dropdown = gr.Dropdown(\n",
        "        label=\"Choose Country\",\n",
        "        choices=get_countries(),\n",
        "        interactive=True\n",
        "    )\n",
        "\n",
        "    load_btn = gr.Button(\"🔄 Load Stations\")\n",
        "\n",
        "    station_dropdown = gr.Dropdown(\n",
        "        label=\"Stations\",\n",
        "        choices=[],\n",
        "        interactive=True\n",
        "    )\n",
        "    info_output = gr.Textbox(label=\"Status\", interactive=False)\n",
        "\n",
        "    play_btn = gr.Button(\"▶️ Play\")\n",
        "    player_html = gr.HTML()\n",
        "\n",
        "    # Hidden state to store station-name → URL mapping\n",
        "    station_state = gr.State({})\n",
        "\n",
        "    # Events\n",
        "    load_btn.click(\n",
        "        fn=load_stations,\n",
        "        inputs=country_dropdown,\n",
        "        outputs=[station_dropdown, info_output, station_state]\n",
        "    )\n",
        "\n",
        "    play_btn.click(\n",
        "        fn=play_station,\n",
        "        inputs=[station_dropdown, station_state],\n",
        "        outputs=player_html\n",
        "    )\n",
        "\n",
        "# ✅ 6. Launch the app\n",
        "app.launch()"
      ]
    }
  ]
}