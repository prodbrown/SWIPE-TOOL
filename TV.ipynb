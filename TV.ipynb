{
  "nbformat": 4,
  "nbformat_minor": 0,
  "metadata": {
    "colab": {
      "provenance": [],
      "authorship_tag": "ABX9TyMN3/AHIkE1+S85/Fzl2z9w",
      "include_colab_link": true
    },
    "kernelspec": {
      "name": "python3",
      "display_name": "Python 3"
    },
    "language_info": {
      "name": "python"
    }
  },
  "cells": [
    {
      "cell_type": "markdown",
      "metadata": {
        "id": "view-in-github",
        "colab_type": "text"
      },
      "source": [
        "<a href=\"https://colab.research.google.com/github/prodbrown/SWIPE-TOOL/blob/main/TV.ipynb\" target=\"_parent\"><img src=\"https://colab.research.google.com/assets/colab-badge.svg\" alt=\"Open In Colab\"/></a>"
      ]
    },
    {
      "cell_type": "code",
      "execution_count": 1,
      "metadata": {
        "id": "qRLj0mGqKZx1",
        "colab": {
          "base_uri": "https://localhost:8080/",
          "height": 663
        },
        "outputId": "7a2e5f45-c145-4616-956a-0833132a7267"
      },
      "outputs": [
        {
          "output_type": "stream",
          "name": "stdout",
          "text": [
            "📡 Fetching IPTV data...\n",
            "It looks like you are running Gradio on a hosted a Jupyter notebook. For the Gradio app to work, sharing must be enabled. Automatically setting `share=True` (you can turn this off by setting `share=False` in `launch()` explicitly).\n",
            "\n",
            "Colab notebook detected. To show errors in colab notebook, set debug=True in launch()\n",
            "* Running on public URL: https://04183cc622b5837be4.gradio.live\n",
            "\n",
            "This share link expires in 1 week. For free permanent hosting and GPU upgrades, run `gradio deploy` from the terminal in the working directory to deploy to Hugging Face Spaces (https://huggingface.co/spaces)\n"
          ]
        },
        {
          "output_type": "display_data",
          "data": {
            "text/plain": [
              "<IPython.core.display.HTML object>"
            ],
            "text/html": [
              "<div><iframe src=\"https://04183cc622b5837be4.gradio.live\" width=\"100%\" height=\"500\" allow=\"autoplay; camera; microphone; clipboard-read; clipboard-write;\" frameborder=\"0\" allowfullscreen></iframe></div>"
            ]
          },
          "metadata": {}
        }
      ],
      "source": [
        "\n",
        "# ✅ Install Gradio if needed\n",
        "try:\n",
        "    import gradio as gr\n",
        "except ImportError:\n",
        "    !pip install gradio\n",
        "    import gradio as gr\n",
        "\n",
        "import requests\n",
        "\n",
        "# ✅ Global cache\n",
        "channels_data = []\n",
        "streams_data = []\n",
        "country_channel_map = {}\n",
        "\n",
        "# ✅ Load and index TV data from iptv-org\n",
        "def load_iptv_data():\n",
        "    global channels_data, streams_data, country_channel_map\n",
        "    print(\"📡 Fetching IPTV data...\")\n",
        "\n",
        "    # Channels: metadata like name, country, etc.\n",
        "    channels_url = \"https://iptv-org.github.io/api/channels.json\"\n",
        "    streams_url = \"https://iptv-org.github.io/api/streams.json\"\n",
        "\n",
        "    channels_data = requests.get(channels_url).json()\n",
        "    streams_data = requests.get(streams_url).json()\n",
        "\n",
        "    # Map: country -> list of (channel_name, stream_url)\n",
        "    country_channel_map = {}\n",
        "\n",
        "    # Build stream lookup table: channel_id -> .m3u8 stream\n",
        "    stream_lookup = {}\n",
        "    for stream in streams_data:\n",
        "        if stream.get(\"channel\") and stream.get(\"url\") and stream[\"url\"].endswith(\".m3u8\"):\n",
        "            stream_lookup.setdefault(stream[\"channel\"], []).append(stream[\"url\"])\n",
        "\n",
        "    # Build map\n",
        "    for ch in channels_data:\n",
        "        country = ch.get(\"country\")\n",
        "        name = ch.get(\"name\")\n",
        "        channel_id = ch.get(\"id\")\n",
        "        streams = stream_lookup.get(channel_id)\n",
        "        if country and name and streams:\n",
        "            country_channel_map.setdefault(country, []).append((name, streams[0]))  # take first stream\n",
        "\n",
        "    return sorted(country_channel_map.keys())\n",
        "\n",
        "# ✅ Load channels when country selected\n",
        "def get_channels_by_country(country):\n",
        "    channels = country_channel_map.get(country, [])\n",
        "    names = [c[0] for c in channels]\n",
        "    return names, {c[0]: c[1] for c in channels}\n",
        "\n",
        "# ✅ Play selected stream\n",
        "def play_tv_channel(channel_name, stream_dict):\n",
        "    stream_url = stream_dict.get(channel_name)\n",
        "    if not stream_url:\n",
        "        return \"❌ No stream found.\"\n",
        "    return f\"\"\"\n",
        "    <video width=\"640\" height=\"360\" controls autoplay>\n",
        "        <source src=\"{stream_url}\" type=\"application/x-mpegURL\">\n",
        "        Your browser does not support the video tag.\n",
        "    </video>\n",
        "    \"\"\"\n",
        "\n",
        "# ✅ Build Gradio App\n",
        "def build_app():\n",
        "    country_list = load_iptv_data()\n",
        "\n",
        "    with gr.Blocks() as demo:\n",
        "        gr.Markdown(\"# 📺 **Global TV Stream Player**\\nChoose a country and watch live TV online.\")\n",
        "\n",
        "        country_dropdown = gr.Dropdown(label=\"🌍 Country\", choices=country_list, interactive=True)\n",
        "        load_btn = gr.Button(\"🔄 Load TV Channels\")\n",
        "\n",
        "        channel_dropdown = gr.Dropdown(label=\"📡 Available Channels\", choices=[], interactive=True)\n",
        "        status_text = gr.Textbox(label=\"ℹ️ Status\", interactive=False)\n",
        "\n",
        "        play_btn = gr.Button(\"▶️ Play\")\n",
        "        video_output = gr.HTML()\n",
        "\n",
        "        # Store channel name → stream_url mapping\n",
        "        stream_dict_state = gr.State({})\n",
        "\n",
        "        # Load channels for selected country\n",
        "        def load_channels(country):\n",
        "            channels, stream_map = get_channels_by_country(country)\n",
        "            if not channels:\n",
        "                return gr.update(choices=[]), \"❌ No channels found.\", {}\n",
        "            return gr.update(choices=channels, value=channels[0]), f\"✅ {len(channels)} channels found in {country}.\", stream_map\n",
        "\n",
        "        load_btn.click(fn=load_channels,\n",
        "                       inputs=country_dropdown,\n",
        "                       outputs=[channel_dropdown, status_text, stream_dict_state])\n",
        "\n",
        "        play_btn.click(fn=play_tv_channel,\n",
        "                       inputs=[channel_dropdown, stream_dict_state],\n",
        "                       outputs=video_output)\n",
        "\n",
        "    demo.launch()\n",
        "\n",
        "# ✅ Run it\n",
        "build_app()"
      ]
    }
  ]
}